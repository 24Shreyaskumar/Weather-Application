{
 "cells": [
  {
   "cell_type": "code",
   "execution_count": 1,
   "metadata": {},
   "outputs": [],
   "source": [
    "from tkinter import *\n",
    "from tkinter import messagebox\n",
    "from configparser import *\n",
    "import requests"
   ]
  },
  {
   "cell_type": "code",
   "execution_count": 2,
   "metadata": {},
   "outputs": [],
   "source": [
    "api_url = 'http://api.openweathermap.org/data/2.5/weather?q={}&appid={}'\n",
    "api_file = 'Weather.key'\n",
    "api = ConfigParser()\n",
    "api.read(api_file)\n",
    "ApiKey = api['api_key']['key']"
   ]
  },
  {
   "cell_type": "code",
   "execution_count": 4,
   "metadata": {},
   "outputs": [],
   "source": [
    "def weather_forecast(city):\n",
    "    details = requests.get(api_url.format(city , ApiKey))\n",
    "\n",
    "    if details:\n",
    "        file = details.json()\n",
    "\n",
    "        city = file['name']\n",
    "        country = file['sys']['country']\n",
    "        temperature_kelvin = file['main']['temp']\n",
    "        temperature_celcius = temperature_kelvin - 273.15\n",
    "        temperature_fahrenheit = (temperature_celcius)*9/5 + 32\n",
    "        weather = file['weather'][0]['main']\n",
    "\n",
    "        result = (city , country , temperature_celcius , temperature_fahrenheit , weather)\n",
    "        \n",
    "        return result\n",
    "\n",
    "    else:\n",
    "        return None"
   ]
  },
  {
   "cell_type": "code",
   "execution_count": 9,
   "metadata": {},
   "outputs": [],
   "source": [
    "def show_weather():\n",
    "    city = SearchCity.get()\n",
    "    weather = weather_forecast(city)\n",
    "\n",
    "    if weather:\n",
    "        getLocation['text'] = '{} , {}'.format(weather[0] , weather[1])\n",
    "        getTemparature['text'] = '{:.2f} C , {:.2f} F'.format(weather[2] , weather[3])\n",
    "        getWeather['text'] = weather[4]\n",
    "\n",
    "    else:\n",
    "        messagebox.showerror('Error' , 'Data Unavailable for the given city')"
   ]
  },
  {
   "cell_type": "code",
   "execution_count": 14,
   "metadata": {},
   "outputs": [],
   "source": [
    "root = Tk()\n",
    "root.title('Weather Application')\n",
    "root.geometry('720x360')\n",
    "root.config(background= '#25D366')"
   ]
  },
  {
   "cell_type": "code",
   "execution_count": 15,
   "metadata": {},
   "outputs": [],
   "source": [
    "SearchCity = StringVar()\n",
    "\n",
    "EnterCity = Entry(root, textvariable= SearchCity , fg = '#203864' , font= ('Times New Roman',35,'bold'))\n",
    "EnterCity.pack()\n",
    "\n",
    "b = Button(root , text = 'Weather Forecast' , bg = '#FFFDD0' , command = show_weather)\n",
    "b.pack()\n",
    "\n",
    "getLocation = Label(root , text = '' , font = ('Times New Roman' , 20 , 'italic'))\n",
    "getLocation.pack()\n",
    "\n",
    "getTemparature = Label(root , text = '' , font = ('Times New Roman' , 20 , 'italic'))\n",
    "getTemparature.pack()\n",
    "\n",
    "getWeather = Label(root , text = '' , font = ('Times New Roman' , 20 , 'italic'))\n",
    "getWeather.pack()\n",
    "\n",
    "root.mainloop()\n"
   ]
  },
  {
   "cell_type": "code",
   "execution_count": null,
   "metadata": {},
   "outputs": [],
   "source": []
  },
  {
   "cell_type": "code",
   "execution_count": null,
   "metadata": {},
   "outputs": [],
   "source": []
  }
 ],
 "metadata": {
  "interpreter": {
   "hash": "2754d3a67fdc5c55984a5749a83be3c5e2897f7d86a1fc8f037effd16c6af8ef"
  },
  "kernelspec": {
   "display_name": "Python 3 (ipykernel)",
   "language": "python",
   "name": "python3"
  },
  "language_info": {
   "codemirror_mode": {
    "name": "ipython",
    "version": 3
   },
   "file_extension": ".py",
   "mimetype": "text/x-python",
   "name": "python",
   "nbconvert_exporter": "python",
   "pygments_lexer": "ipython3",
   "version": "3.8.12"
  }
 },
 "nbformat": 4,
 "nbformat_minor": 2
}
