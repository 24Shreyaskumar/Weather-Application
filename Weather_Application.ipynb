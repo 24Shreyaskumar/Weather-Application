{
 "cells": [
  {
   "cell_type": "code",
   "execution_count": 275,
   "metadata": {},
   "outputs": [],
   "source": [
    "from tkinter import *\n",
    "from tkinter import messagebox\n",
    "from configparser import *\n",
    "import requests"
   ]
  },
  {
   "cell_type": "code",
   "execution_count": 276,
   "metadata": {},
   "outputs": [],
   "source": [
    "api_url = 'http://api.openweathermap.org/data/2.5/weather?q={}&appid={}'\n",
    "api_file = 'Weather.key'\n",
    "api = ConfigParser()\n",
    "api.read(api_file)\n",
    "ApiKey = api['api_key']['key']"
   ]
  },
  {
   "cell_type": "code",
   "execution_count": 277,
   "metadata": {},
   "outputs": [],
   "source": [
    "def help_fun():\n",
    "    help_window = Toplevel()\n",
    "    help_window.title('Weather Pro - Help')\n",
    "    help_window.iconbitmap('Weather_icon.ico')\n",
    "    help_window.maxsize(509,339)\n",
    "    help_window.minsize(509,339)\n",
    "\n",
    "    bg_h = PhotoImage(file= 'weather_bg.png')\n",
    "    bg_l = Label(help_window , image= bg_h)\n",
    "    bg_l.place(x = 0 , y = 0 , relwidth = 1 , relheight = 1)\n",
    "\n",
    "    txt = open('Help.txt')\n",
    "    l = Label(help_window , text = txt.read() , bg = '#25D366' , font= ('Times New Roman',12,'bold') , justify= 'left')\n",
    "    l.pack(pady= 20)\n",
    "    \n",
    "    help_window.mainloop()"
   ]
  },
  {
   "cell_type": "code",
   "execution_count": 278,
   "metadata": {},
   "outputs": [],
   "source": [
    "def about_us_fun():\n",
    "    about_us_window = Toplevel()\n",
    "    about_us_window.title('Weather Pro - About Us')\n",
    "    about_us_window.iconbitmap('Weather_icon.ico')\n",
    "    about_us_window.maxsize(509,339)\n",
    "    about_us_window.minsize(509,339)\n",
    "\n",
    "    bg_a = PhotoImage(file= 'weather_bg.png')\n",
    "    bg_l = Label(about_us_window , image= bg_a)\n",
    "    bg_l.place(x = 0 , y = 0 , relwidth = 1 , relheight = 1)\n",
    "\n",
    "    txt = open('About_Us.txt')\n",
    "    l = Label(about_us_window , text = txt.read()  , bg = '#25D366' , font= ('Times New Roman',10), justify= 'left')\n",
    "    l.pack(pady= 20)\n",
    "    \n",
    "    about_us_window.mainloop()"
   ]
  },
  {
   "cell_type": "code",
   "execution_count": 279,
   "metadata": {},
   "outputs": [],
   "source": [
    "def feedback_fun():\n",
    "    feedback_window = Toplevel()\n",
    "    feedback_window.title('Weather Pro - Feedback')\n",
    "    feedback_window.iconbitmap('Weather_icon.ico')\n",
    "    feedback_window.maxsize(509,339)\n",
    "    feedback_window.minsize(509,339)\n",
    "    \n",
    "\n",
    "    def are_you_sure():\n",
    "        messagebox.askyesno('Submit' ,'Are you sure you want to submit your feedback?')\n",
    "        feedback_window.destroy()\n",
    "\n",
    "\n",
    "\n",
    "    bg_r = PhotoImage(file= 'weather_bg.png')\n",
    "    bg_l = Label(feedback_window , image= bg_r)\n",
    "    bg_l.place(x = 0 , y = 0 , relwidth = 1 , relheight = 1)\n",
    "\n",
    "    feed_l = Label(feedback_window , text= 'Give Us Your Feedback' , font= ('Times New Roman' , 20 , 'bold'), fg = 'yellow' , bg = 'grey')\n",
    "    feed_l.pack(pady= 10)\n",
    "\n",
    "    feed_t = Text(feedback_window , width= 50 , height = 10 , bg = '#25D366' , font= ('Times New Roman',12,'bold'))\n",
    "    feed_t.pack(pady = 30)\n",
    "\n",
    "    submit = Button(feedback_window , text = 'Submit' , command= are_you_sure , fg = 'yellow' , bg = 'grey')\n",
    "    submit.pack()\n",
    "    \n",
    "    feedback_window.mainloop()"
   ]
  },
  {
   "cell_type": "code",
   "execution_count": 280,
   "metadata": {},
   "outputs": [],
   "source": [
    "def weather_forecast(city):\n",
    "    details = requests.get(api_url.format(city , ApiKey))\n",
    "\n",
    "    if details:\n",
    "        file = details.json()\n",
    "\n",
    "        city = file['name']\n",
    "        country = file['sys']['country']\n",
    "        temperature_kelvin = file['main']['temp']\n",
    "        temperature_celcius = temperature_kelvin - 273.15\n",
    "        temperature_fahrenheit = (temperature_celcius)*9/5 + 32\n",
    "        weather = file['weather'][0]['main']\n",
    "\n",
    "        result = (city , country , temperature_celcius , temperature_fahrenheit , weather)\n",
    "        \n",
    "        return result\n",
    "\n",
    "    else:\n",
    "        return None"
   ]
  },
  {
   "cell_type": "code",
   "execution_count": 281,
   "metadata": {},
   "outputs": [],
   "source": [
    "def show_weather():\n",
    "    city = SearchCity.get()\n",
    "    weather = weather_forecast(city)\n",
    "\n",
    "    if weather:\n",
    "        getLocation['text'] = '{} , {}'.format(weather[0] , weather[1])\n",
    "        getTemparature['text'] = '{:.2f} C , {:.2f} F'.format(weather[2] , weather[3])\n",
    "        getWeather['text'] = weather[4]\n",
    "\n",
    "    else:\n",
    "        messagebox.showerror('Error' , 'Data Unavailable')"
   ]
  },
  {
   "cell_type": "code",
   "execution_count": 282,
   "metadata": {},
   "outputs": [],
   "source": [
    "def Get_Started():\n",
    "    root = Toplevel()\n",
    "    root.title('Weather Pro - Weather Forecast')\n",
    "    root.geometry('509x339')\n",
    "    root.minsize(509,339)\n",
    "    root.maxsize(509,339)\n",
    "    root.iconbitmap('Weather_icon.ico')\n",
    "\n",
    "    bg = PhotoImage(file= 'weather_bg.png')\n",
    "    l = Label(root , image= bg)\n",
    "    l.place(x = 0 , y = 0 , relwidth = 1 , relheight = 1)\n",
    "\n",
    "\n",
    "    help = Button(root , text = \"Help\" , bg = \"silver\" , command= help_fun).place(x= 10 , y = 10)\n",
    "    about_us = Button(root , text = 'About Us' , bg = \"silver\" , command= about_us_fun).place(x= 225 , y = 10)\n",
    "    feedback  = Button(root , text= 'Feedback' , bg = \"silver\" , command= feedback_fun).place(x= 440 , y= 10)\n",
    "\n",
    "\n",
    "\n",
    "    global SearchCity\n",
    "    SearchCity = StringVar()\n",
    "\n",
    "    global EnterCity\n",
    "    EnterCity = Entry(root, textvariable= SearchCity , fg = 'dark blue' , bg = 'turquoise', font= ('Times New Roman',35,'bold') ,width= 15, borderwidth=5 , justify= 'center')\n",
    "    EnterCity.pack(pady= 50)\n",
    "\n",
    "    b = Button(root , text = 'Weather Forecast' , bg = '#25D366' , command = show_weather)\n",
    "    b.place(x= 200 , y= 130)\n",
    "\n",
    "    global getLocation\n",
    "    getLocation = Label(root , text = '' , font = ('Times New Roman' , 20 , 'italic') , bg = 'light green')\n",
    "    getLocation.pack(pady = 5)\n",
    "\n",
    "    global getTemparature\n",
    "    getTemparature = Label(root , text = '' , font = ('Times New Roman' , 20 , 'italic') , bg = 'light green')\n",
    "    getTemparature.pack(pady= 5)\n",
    "\n",
    "    global getWeather\n",
    "    getWeather = Label(root , text = '' , font = ('Times New Roman' , 20 , 'italic') , bg = 'light green')\n",
    "    getWeather.pack(pady= 5)\n",
    "\n",
    "    root.mainloop()\n"
   ]
  },
  {
   "cell_type": "code",
   "execution_count": 283,
   "metadata": {},
   "outputs": [],
   "source": [
    "window = Tk()\n",
    "window.title('Weather Pro')\n",
    "window.geometry('509x339')\n",
    "window.minsize(509,339)\n",
    "window.maxsize(509,339)\n",
    "window.iconbitmap('Weather_icon.ico')\n",
    "\n",
    "bg_window = PhotoImage(file= 'weather_bg.png')\n",
    "l = Label(window , image= bg_window)\n",
    "l.place(x = 0 , y = 0 , relwidth = 1 , relheight = 1)\n",
    "\n",
    "Welcome = Label(window , text = 'Weather Pro' , fg = 'yellow' , bg= 'grey', font= ('Times New Roman' , 50 , 'bold')).place(x= 75 , y= 110)\n",
    "\n",
    "b = Button(window , text= 'Get Started' , command= Get_Started , bg = '#25D366' , font= ('Times New Roman' , 15)).place(x= 200 , y= 230)\n",
    "\n",
    "window.mainloop()"
   ]
  },
  {
   "cell_type": "code",
   "execution_count": null,
   "metadata": {},
   "outputs": [],
   "source": []
  }
 ],
 "metadata": {
  "interpreter": {
   "hash": "2754d3a67fdc5c55984a5749a83be3c5e2897f7d86a1fc8f037effd16c6af8ef"
  },
  "kernelspec": {
   "display_name": "Python 3 (ipykernel)",
   "language": "python",
   "name": "python3"
  },
  "language_info": {
   "codemirror_mode": {
    "name": "ipython",
    "version": 3
   },
   "file_extension": ".py",
   "mimetype": "text/x-python",
   "name": "python",
   "nbconvert_exporter": "python",
   "pygments_lexer": "ipython3",
   "version": "3.9.2"
  }
 },
 "nbformat": 4,
 "nbformat_minor": 2
}
